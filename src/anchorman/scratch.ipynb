{
 "cells": [
  {
   "cell_type": "code",
   "execution_count": null,
   "metadata": {},
   "outputs": [],
   "source": [
    "import os\n",
    "import pathlib\n",
    "\n",
    "from terra_sdk.client import lcd\n",
    "from terra_sdk.core import Dec\n",
    "from terra_sdk.core import coin\n",
    "from terra_sdk import exceptions\n",
    "\n",
    "from anchorman import anchor"
   ]
  },
  {
   "cell_type": "code",
   "execution_count": null,
   "metadata": {},
   "outputs": [],
   "source": [
    "if not 'workbook_dir' in globals():\n",
    "    workbook_dir = pathlib.Path.cwd()\n",
    "print(f\"workbook_dir: {workbook_dir}\")\n",
    "os.chdir(workbook_dir)  # If you changed the current working dir, this will take you back to the workbook dir."
   ]
  },
  {
   "cell_type": "code",
   "execution_count": null,
   "metadata": {},
   "outputs": [],
   "source": [
    "ROOT = workbook_dir.parent.parent\n",
    "\n",
    "CHAIN_ID_TESTNET = \"tequila-0004\"\n",
    "lcd_scratch = lcd.LCDClient(\n",
    "    chain_id=CHAIN_ID_TESTNET, url=anchor.PUBLIC_NODE_URLS[CHAIN_ID_TESTNET]\n",
    ")\n",
    "MNEM_PATH_TEST = ROOT / \"mnemonic.txt\"\n",
    "WALLET_TEST = lcd_scratch.wallet(anchor.mnem_key_from_file(MNEM_PATH_TEST))"
   ]
  },
  {
   "cell_type": "markdown",
   "metadata": {},
   "source": [
    "Explore aTerra (Anchor Earn) functionality:"
   ]
  },
  {
   "cell_type": "code",
   "execution_count": null,
   "metadata": {},
   "outputs": [],
   "source": [
    "ATERRA_QUERY_PAIRS = {\n",
    "    \"balance\": \"address\",\n",
    "    \"token_info\": \"address\",\n",
    "    \"minter\": \"address\",\n",
    "}\n",
    "\n",
    "try:\n",
    "    \n",
    "    results = []\n",
    "\n",
    "    for k, v in ATERRA_QUERY_PAIRS.items():\n",
    "        print(f\"\\n{k}: {v}\")\n",
    "        results.append(\n",
    "            lcd_scratch.wasm.contract_query(\n",
    "                anchor.CONTRACT_ADDRESSES[lcd_scratch.chain_id][\"aTerra\"], {\n",
    "                    k: {v: WALLET_TEST.key.acc_address},\n",
    "                },\n",
    "            )\n",
    "        )\n",
    "        print(results[-1])\n",
    "except exceptions.LCDResponseError as e:\n",
    "    print(str(e))"
   ]
  },
  {
   "cell_type": "markdown",
   "metadata": {},
   "source": [
    "\n",
    "Explore bLunaHub"
   ]
  },
  {
   "cell_type": "code",
   "execution_count": null,
   "metadata": {},
   "outputs": [],
   "source": [
    "BLUNAHUB_QUERY_PAIRS = {\n",
    "    \"config\": \"addres\",\n",
    "    \"state\": \"addres\",\n",
    "    \"whitelisted_validators\": \"addres\",\n",
    "    \"current_batch\": \"addres\",\n",
    "    \"withdrawable_unbonded\": \"address\",\n",
    "    \"parameters\": \"address\",\n",
    "    \"unbond_requests\": \"address\",\n",
    "    \"all_history\": \"address\",\n",
    "}\n",
    "\n",
    "try:\n",
    "    \n",
    "    results = []\n",
    "\n",
    "    for k, v in BLUNAHUB_QUERY_PAIRS.items():\n",
    "        print(f\"\\n{k}: {v}\")\n",
    "        results.append(\n",
    "            lcd_scratch.wasm.contract_query(\n",
    "                anchor.CONTRACT_ADDRESSES[lcd_scratch.chain_id][\"bLunaHub\"], {\n",
    "                    k: {v: WALLET_TEST.key.acc_address},\n",
    "                },\n",
    "            )\n",
    "        )\n",
    "        print(results[-1])\n",
    "except exceptions.LCDResponseError as e:\n",
    "    print(str(e))"
   ]
  },
  {
   "cell_type": "markdown",
   "metadata": {},
   "source": []
  },
  {
   "cell_type": "markdown",
   "metadata": {},
   "source": [
    "Explore bLunaToken"
   ]
  },
  {
   "cell_type": "code",
   "execution_count": null,
   "metadata": {},
   "outputs": [],
   "source": [
    "BLUNATOKEN_QUERY_PAIRS = {\n",
    "    \"balance\": \"address\",\n",
    "    \"token_info\": \"address\",\n",
    "    \"minter\": \"address\",\n",
    "    \"allowance\": \"owner\",\n",
    "    \"all_allowances\": \"address\",\n",
    "    \"all_accounts\": \"address\",\n",
    "}\n",
    "\n",
    "try:\n",
    "    \n",
    "    results = []\n",
    "\n",
    "    for k, v in BLUNATOKEN_QUERY_PAIRS.items():\n",
    "        print(f\"\\n{k}: {v}\")\n",
    "        results.append(\n",
    "            lcd_scratch.wasm.contract_query(\n",
    "                anchor.CONTRACT_ADDRESSES[lcd_scratch.chain_id][\"bLunaToken\"], {\n",
    "                    k: {v: WALLET_TEST.key.acc_address},\n",
    "                },\n",
    "            )\n",
    "        )\n",
    "        print(results[-1])\n",
    "except exceptions.LCDResponseError as e:\n",
    "    print(str(e))"
   ]
  },
  {
   "cell_type": "markdown",
   "metadata": {},
   "source": [
    "Explore bLunaReward"
   ]
  },
  {
   "cell_type": "code",
   "execution_count": null,
   "metadata": {},
   "outputs": [],
   "source": [
    "BLUNAREWARD_QUERY_PAIRS = {\n",
    "    \"config\": \"address\",\n",
    "    \"state\": \"address\",\n",
    "    \"accrued_rewards\": \"address\",\n",
    "    \"holder\": \"address\",\n",
    "    \"holders\": \"address\",\n",
    "}\n",
    "\n",
    "try:\n",
    "    \n",
    "    results = []\n",
    "\n",
    "    for k, v in BLUNAREWARD_QUERY_PAIRS.items():\n",
    "        print(f\"\\n{k}: {v}\")\n",
    "        results.append(\n",
    "            lcd_scratch.wasm.contract_query(\n",
    "                anchor.CONTRACT_ADDRESSES[lcd_scratch.chain_id][\"bLunaReward\"], {\n",
    "                    k: {v: WALLET_TEST.key.acc_address},\n",
    "                },\n",
    "            )\n",
    "        )\n",
    "        print(results[-1])\n",
    "except exceptions.LCDResponseError as e:\n",
    "    print(str(e))"
   ]
  },
  {
   "cell_type": "markdown",
   "metadata": {},
   "source": [
    "Explore bLunaAirdrop"
   ]
  },
  {
   "cell_type": "code",
   "execution_count": null,
   "metadata": {},
   "outputs": [],
   "source": [
    "BLUNAAIRDROP_QUERY_PAIRS = {\n",
    "    \"config\": \"address\",\n",
    "    \"airdrop_info\": \"address\",\n",
    "}\n",
    "\n",
    "try:\n",
    "    \n",
    "    results = []\n",
    "\n",
    "    for k, v in BLUNAAIRDROP_QUERY_PAIRS.items():\n",
    "        print(f\"\\n{k}: {v}\")\n",
    "        results.append(\n",
    "            lcd_scratch.wasm.contract_query(\n",
    "                anchor.CONTRACT_ADDRESSES[lcd_scratch.chain_id][\"bLunaAirdrop\"], {\n",
    "                    k: {v: WALLET_TEST.key.acc_address},\n",
    "                },\n",
    "            )\n",
    "        )\n",
    "        print(results[-1])\n",
    "except exceptions.LCDResponseError as e:\n",
    "    print(str(e))"
   ]
  },
  {
   "cell_type": "markdown",
   "metadata": {},
   "source": [
    "Explore mmInterestModel"
   ]
  },
  {
   "cell_type": "code",
   "execution_count": null,
   "metadata": {},
   "outputs": [],
   "source": [
    "MMINTERESTMODEL_QUERY_PAIRS = {\n",
    "    \"config\": \"address\",\n",
    "    \"borrow_rate\": \"market_balance\",\n",
    "}\n",
    "\n",
    "try:\n",
    "    \n",
    "    results = []\n",
    "\n",
    "    for k, v in MMINTERESTMODEL_QUERY_PAIRS.items():\n",
    "        print(f\"\\n{k}: {v}\")\n",
    "        results.append(\n",
    "            lcd_scratch.wasm.contract_query(\n",
    "                anchor.CONTRACT_ADDRESSES[lcd_scratch.chain_id][\"mmInterestModel\"], {\n",
    "                    k: {v: \"\"},\n",
    "                },\n",
    "            )\n",
    "        )\n",
    "        print(results[-1])\n",
    "except exceptions.LCDResponseError as e:\n",
    "    print(str(e))"
   ]
  },
  {
   "cell_type": "markdown",
   "metadata": {},
   "source": [
    "Explore MMORACLE"
   ]
  },
  {
   "cell_type": "code",
   "execution_count": null,
   "metadata": {},
   "outputs": [],
   "source": [
    "MMORACLE_QUERY_PAIRS = {\n",
    "    \"config\": \"address\",\n",
    "    \"prices\": \"base\",\n",
    "    \"price\": \"base\",\n",
    "    \"feeder\": \"asset\",\n",
    "}\n",
    "\n",
    "try:\n",
    "    \n",
    "    results = []\n",
    "\n",
    "    for k, v in MMORACLE_QUERY_PAIRS.items():\n",
    "        print(f\"\\n{k}: {v}\")\n",
    "        results.append(\n",
    "            lcd_scratch.wasm.contract_query(\n",
    "                anchor.CONTRACT_ADDRESSES[lcd_scratch.chain_id][\"mmOracle\"], {\n",
    "                    k: {v: \"uusd\"},\n",
    "                },\n",
    "            )\n",
    "        )\n",
    "        print(results[-1])\n",
    "except exceptions.LCDResponseError as e:\n",
    "    print(str(e))"
   ]
  },
  {
   "cell_type": "markdown",
   "metadata": {},
   "source": [
    "Explore mmMarket"
   ]
  },
  {
   "cell_type": "code",
   "execution_count": null,
   "metadata": {},
   "outputs": [],
   "source": [
    "MMMARKET_QUERY_PAIRS = {\n",
    "    \"config\": \"address\",\n",
    "    \"state\": \"address\",\n",
    "    \"epoch_state\": \"address\",\n",
    "    \"borrower_info\": \"borrower\",\n",
    "    \"borrower_infos\": \"address\",\n",
    "}\n",
    "\n",
    "try:\n",
    "    \n",
    "    results = []\n",
    "\n",
    "    for k, v in MMMARKET_QUERY_PAIRS.items():\n",
    "        print(f\"\\n{k}: {v}\")\n",
    "        results.append(\n",
    "            lcd_scratch.wasm.contract_query(\n",
    "                anchor.CONTRACT_ADDRESSES[lcd_scratch.chain_id][\"mmMarket\"], {\n",
    "                    k: {v: WALLET_TEST.key.acc_address},\n",
    "                },\n",
    "            )\n",
    "        )\n",
    "        print(results[-1])\n",
    "except exceptions.LCDResponseError as e:\n",
    "    print(str(e))"
   ]
  },
  {
   "cell_type": "markdown",
   "metadata": {},
   "source": [
    "Explore mmOverseer"
   ]
  },
  {
   "cell_type": "code",
   "execution_count": null,
   "metadata": {},
   "outputs": [],
   "source": [
    "MMOVERSEER_QUERY_PAIRS = {\n",
    "    \"config\": \"address\",\n",
    "    \"epoch_state\": \"address\",\n",
    "    \"whitelist\": \"borrower\",\n",
    "    \"borrow_limit\": \"borrower\",\n",
    "    \"collaterals\": \"borrower\",\n",
    "    \"all_collaterals\": \"address\",\n",
    "}\n",
    "\n",
    "try:\n",
    "    \n",
    "    results = []\n",
    "\n",
    "    for k, v in MMOVERSEER_QUERY_PAIRS.items():\n",
    "        print(f\"\\n{k}: {v}\")\n",
    "        results.append(\n",
    "            lcd_scratch.wasm.contract_query(\n",
    "                anchor.CONTRACT_ADDRESSES[lcd_scratch.chain_id][\"mmOverseer\"], {\n",
    "                    k: {v: WALLET_TEST.key.acc_address},\n",
    "                },\n",
    "            )\n",
    "        )\n",
    "        print(results[-1])\n",
    "except exceptions.LCDResponseError as e:\n",
    "    print(str(e))"
   ]
  },
  {
   "cell_type": "markdown",
   "metadata": {},
   "source": [
    "Explore mmCustody"
   ]
  },
  {
   "cell_type": "code",
   "execution_count": null,
   "metadata": {},
   "outputs": [],
   "source": [
    "MMCUSTODY_QUERY_PAIRS = {\n",
    "    \"config\": \"address\",\n",
    "    \"borrower\": \"address\",\n",
    "    \"borrowers\": \"address\",\n",
    "}\n",
    "\n",
    "try:\n",
    "    \n",
    "    results = []\n",
    "\n",
    "    for k, v in MMCUSTODY_QUERY_PAIRS.items():\n",
    "        print(f\"\\n{k}: {v}\")\n",
    "        results.append(\n",
    "            lcd_scratch.wasm.contract_query(\n",
    "                anchor.CONTRACT_ADDRESSES[lcd_scratch.chain_id][\"mmCustody\"], {\n",
    "                    k: {v: WALLET_TEST.key.acc_address},\n",
    "                },\n",
    "            )\n",
    "        )\n",
    "        print(results[-1])\n",
    "except exceptions.LCDResponseError as e:\n",
    "    print(str(e))"
   ]
  },
  {
   "cell_type": "markdown",
   "metadata": {},
   "source": [
    "Explore mmLiquidation"
   ]
  },
  {
   "cell_type": "code",
   "execution_count": null,
   "metadata": {},
   "outputs": [],
   "source": [
    "MMLIQUIDATION_QUERY_PAIRS = {\n",
    "    \"config\": \"address\",\n",
    "    \"bid\": \"collateral_token\",\n",
    "    \"bids_by_user\": \"address\",\n",
    "    \"bids_by_collateral\": \"address\",\n",
    "    \"liquidation_amount\": \"borrow_amount\",\n",
    "}\n",
    "\n",
    "try:\n",
    "    \n",
    "    results = []\n",
    "\n",
    "    for k, v in MMLIQUIDATION_QUERY_PAIRS.items():\n",
    "        print(f\"\\n{k}: {v}\")\n",
    "        results.append(\n",
    "            lcd_scratch.wasm.contract_query(\n",
    "                anchor.CONTRACT_ADDRESSES[lcd_scratch.chain_id][\"mmLiquidation\"], {\n",
    "                    k: {v: \"1\"},\n",
    "                },\n",
    "            )\n",
    "        )\n",
    "        print(results[-1])\n",
    "except exceptions.LCDResponseError as e:\n",
    "    print(str(e))"
   ]
  },
  {
   "cell_type": "markdown",
   "metadata": {},
   "source": [
    "Explore mmDistributionModel"
   ]
  },
  {
   "cell_type": "code",
   "execution_count": null,
   "metadata": {},
   "outputs": [],
   "source": [
    "MMDISTRIBUTIONMODEL_QUERY_PAIRS = {\n",
    "    \"config\": \"address\",\n",
    "    \"anc_emission_rate\": \"deposit_rate\",\n",
    "}\n",
    "\n",
    "try:\n",
    "    \n",
    "    results = []\n",
    "\n",
    "    for k, v in MMDISTRIBUTIONMODEL_QUERY_PAIRS.items():\n",
    "        print(f\"\\n{k}: {v}\")\n",
    "        results.append(\n",
    "            lcd_scratch.wasm.contract_query(\n",
    "                anchor.CONTRACT_ADDRESSES[lcd_scratch.chain_id][\"mmDistributionModel\"], {\n",
    "                    k: {v: \"1\"},\n",
    "                },\n",
    "            )\n",
    "        )\n",
    "        print(results[-1])\n",
    "except exceptions.LCDResponseError as e:\n",
    "    print(str(e))"
   ]
  },
  {
   "cell_type": "markdown",
   "metadata": {},
   "source": [
    "Explore airdrop"
   ]
  },
  {
   "cell_type": "code",
   "execution_count": null,
   "metadata": {},
   "outputs": [],
   "source": [
    "AIRDROP_QUERY_PAIRS = {\n",
    "    \"config\": \"address\",\n",
    "    \"latest_stage\": \"address\",\n",
    "    \"merkle_root\": \"stage\",\n",
    "    \"is_claimed\": \"address\",\n",
    "}\n",
    "\n",
    "try:\n",
    "    \n",
    "    results = []\n",
    "\n",
    "    for k, v in AIRDROP_QUERY_PAIRS.items():\n",
    "        print(f\"\\n{k}: {v}\")\n",
    "        results.append(\n",
    "            lcd_scratch.wasm.contract_query(\n",
    "                anchor.CONTRACT_ADDRESSES[lcd_scratch.chain_id][\"airdrop\"], {\n",
    "                    k: {v: 8},\n",
    "                },\n",
    "            )\n",
    "        )\n",
    "        print(results[-1])\n",
    "except exceptions.LCDResponseError as e:\n",
    "    print(str(e))"
   ]
  },
  {
   "cell_type": "markdown",
   "metadata": {},
   "source": [
    "Explore ANC"
   ]
  },
  {
   "cell_type": "code",
   "execution_count": null,
   "metadata": {},
   "outputs": [],
   "source": [
    "ANC_QUERY_PAIRS = {\n",
    "    \"balance\": \"address\",\n",
    "    \"token_info\": \"address\",\n",
    "    \"minter\": \"address\",\n",
    "    \"allowance\": \"owner\",\n",
    "    \"all_allowances\": \"address\",\n",
    "    \"all_accounts\": \"address\",\n",
    "}\n",
    "\n",
    "try:\n",
    "    \n",
    "    results = []\n",
    "\n",
    "    for k, v in ANC_QUERY_PAIRS.items():\n",
    "        print(f\"\\n{k}: {v}\")\n",
    "        results.append(\n",
    "            lcd_scratch.wasm.contract_query(\n",
    "                anchor.CONTRACT_ADDRESSES[lcd_scratch.chain_id][\"ANC\"], {\n",
    "                    k: {v: WALLET_TEST.key.acc_address},\n",
    "                },\n",
    "            )\n",
    "        )\n",
    "        print(results[-1])\n",
    "except exceptions.LCDResponseError as e:\n",
    "    print(str(e))"
   ]
  },
  {
   "cell_type": "markdown",
   "metadata": {},
   "source": [
    "Explore collector"
   ]
  },
  {
   "cell_type": "code",
   "execution_count": null,
   "metadata": {},
   "outputs": [],
   "source": [
    "COLLECTOR_QUERY_PAIRS = {\n",
    "    \"config\": \"address\",\n",
    "}\n",
    "\n",
    "try:\n",
    "    \n",
    "    results = []\n",
    "\n",
    "    for k, v in COLLECTOR_QUERY_PAIRS.items():\n",
    "        print(f\"\\n{k}: {v}\")\n",
    "        results.append(\n",
    "            lcd_scratch.wasm.contract_query(\n",
    "                anchor.CONTRACT_ADDRESSES[lcd_scratch.chain_id][\"collector\"], {\n",
    "                    k: {v: WALLET_TEST.key.acc_address},\n",
    "                },\n",
    "            )\n",
    "        )\n",
    "        print(results[-1])\n",
    "except exceptions.LCDResponseError as e:\n",
    "    print(str(e))"
   ]
  },
  {
   "cell_type": "markdown",
   "metadata": {},
   "source": [
    "Explore community"
   ]
  },
  {
   "cell_type": "code",
   "execution_count": null,
   "metadata": {},
   "outputs": [],
   "source": [
    "COMMUNITY_QUERY_PAIRS = {\n",
    "    \"config\": \"address\",\n",
    "}\n",
    "\n",
    "try:\n",
    "    \n",
    "    results = []\n",
    "\n",
    "    for k, v in COMMUNITY_QUERY_PAIRS.items():\n",
    "        print(f\"\\n{k}: {v}\")\n",
    "        results.append(\n",
    "            lcd_scratch.wasm.contract_query(\n",
    "                anchor.CONTRACT_ADDRESSES[lcd_scratch.chain_id][\"community\"], {\n",
    "                    k: {v: WALLET_TEST.key.acc_address},\n",
    "                },\n",
    "            )\n",
    "        )\n",
    "        print(results[-1])\n",
    "except exceptions.LCDResponseError as e:\n",
    "    print(str(e))"
   ]
  },
  {
   "cell_type": "markdown",
   "metadata": {},
   "source": [
    "Explore distributor"
   ]
  },
  {
   "cell_type": "code",
   "execution_count": null,
   "metadata": {},
   "outputs": [],
   "source": [
    "DISTRIBUTOR_QUERY_PAIRS = {\n",
    "    \"config\": \"address\",\n",
    "}\n",
    "\n",
    "try:\n",
    "    \n",
    "    results = []\n",
    "\n",
    "    for k, v in DISTRIBUTOR_QUERY_PAIRS.items():\n",
    "        print(f\"\\n{k}: {v}\")\n",
    "        results.append(\n",
    "            lcd_scratch.wasm.contract_query(\n",
    "                anchor.CONTRACT_ADDRESSES[lcd_scratch.chain_id][\"distributor\"], {\n",
    "                    k: {v: WALLET_TEST.key.acc_address},\n",
    "                },\n",
    "            )\n",
    "        )\n",
    "        print(results[-1])\n",
    "except exceptions.LCDResponseError as e:\n",
    "    print(str(e))"
   ]
  },
  {
   "cell_type": "markdown",
   "metadata": {},
   "source": [
    "Explore gov"
   ]
  },
  {
   "cell_type": "code",
   "execution_count": null,
   "metadata": {},
   "outputs": [],
   "source": [
    "GOV_QUERY_PAIRS = {\n",
    "    \"config\": \"address\",\n",
    "    \"state\": \"address\",\n",
    "    \"staker\": \"address\",\n",
    "    \"poll\": \"poll_id\",\n",
    "    \"polls\": \"address\",\n",
    "    \"voters\": \"address\",\n",
    "}\n",
    "\n",
    "try:\n",
    "    \n",
    "    results = []\n",
    "\n",
    "    for k, v in GOV_QUERY_PAIRS.items():\n",
    "        print(f\"\\n{k}: {v}\")\n",
    "        results.append(\n",
    "            lcd_scratch.wasm.contract_query(\n",
    "                anchor.CONTRACT_ADDRESSES[lcd_scratch.chain_id][\"gov\"], {\n",
    "                    k: {v: WALLET_TEST.key.acc_address},\n",
    "                },\n",
    "            )\n",
    "        )\n",
    "        print(results[-1])\n",
    "except exceptions.LCDResponseError as e:\n",
    "    print(str(e))"
   ]
  },
  {
   "cell_type": "markdown",
   "metadata": {},
   "source": [
    "Explore investor_vesting"
   ]
  },
  {
   "cell_type": "code",
   "execution_count": null,
   "metadata": {},
   "outputs": [],
   "source": [
    "INVESTORVESTING_QUERY_PAIRS = { # not in testnet\n",
    "    \"config\": \"address\",\n",
    "    \"state\": \"address\",\n",
    "    \"staker\": \"address\",\n",
    "    \"poll\": \"poll_id\",\n",
    "    \"polls\": \"address\",\n",
    "    \"voters\": \"address\",\n",
    "}\n",
    "\n",
    "try:\n",
    "    \n",
    "    results = []\n",
    "\n",
    "    for k, v in INVESTORVESTING_QUERY_PAIRS.items():\n",
    "        print(f\"\\n{k}: {v}\")\n",
    "        results.append(\n",
    "            lcd_scratch.wasm.contract_query(\n",
    "                anchor.CONTRACT_ADDRESSES[lcd_scratch.chain_id][\"investor_vesting\"], {\n",
    "                    k: {v: WALLET_TEST.key.acc_address},\n",
    "                },\n",
    "            )\n",
    "        )\n",
    "        print(results[-1])\n",
    "except exceptions.LCDResponseError as e:\n",
    "    print(str(e))"
   ]
  },
  {
   "cell_type": "markdown",
   "metadata": {},
   "source": [
    "Explore staking"
   ]
  },
  {
   "cell_type": "code",
   "execution_count": null,
   "metadata": {},
   "outputs": [],
   "source": [
    "STAKING_QUERY_PAIRS = { # not in testnet\n",
    "    \"config\": \"address\",\n",
    "    \"state\": \"address\",\n",
    "    \"staker_info\": \"staker\",\n",
    "}\n",
    "\n",
    "try:\n",
    "    \n",
    "    results = []\n",
    "\n",
    "    for k, v in STAKING_QUERY_PAIRS.items():\n",
    "        print(f\"\\n{k}: {v}\")\n",
    "        results.append(\n",
    "            lcd_scratch.wasm.contract_query(\n",
    "                anchor.CONTRACT_ADDRESSES[lcd_scratch.chain_id][\"staking\"], {\n",
    "                    k: {v: WALLET_TEST.key.acc_address},\n",
    "                },\n",
    "            )\n",
    "        )\n",
    "        print(results[-1])\n",
    "except exceptions.LCDResponseError as e:\n",
    "    print(str(e))"
   ]
  },
  {
   "cell_type": "markdown",
   "metadata": {},
   "source": [
    "Explore team_vesting"
   ]
  },
  {
   "cell_type": "code",
   "execution_count": null,
   "metadata": {},
   "outputs": [],
   "source": [
    "TEAMVESTING_QUERY_PAIRS = { # not in testnet\n",
    "    \"config\": \"address\",\n",
    "    \"state\": \"address\",\n",
    "    \"staker\": \"address\",\n",
    "    \"poll\": \"poll_id\",\n",
    "    \"polls\": \"address\",\n",
    "    \"voters\": \"address\",\n",
    "}\n",
    "\n",
    "try:\n",
    "    \n",
    "    results = []\n",
    "\n",
    "    for k, v in TEAMVESTING_QUERY_PAIRS.items():\n",
    "        print(f\"\\n{k}: {v}\")\n",
    "        results.append(\n",
    "            lcd_scratch.wasm.contract_query(\n",
    "                anchor.CONTRACT_ADDRESSES[lcd_scratch.chain_id][\"team_vesting\"], {\n",
    "                    k: {v: WALLET_TEST.key.acc_address},\n",
    "                },\n",
    "            )\n",
    "        )\n",
    "        print(results[-1])\n",
    "except exceptions.LCDResponseError as e:\n",
    "    print(str(e))"
   ]
  },
  {
   "cell_type": "markdown",
   "metadata": {},
   "source": [
    "Explore terraswapblunaLunaPair"
   ]
  },
  {
   "cell_type": "code",
   "execution_count": null,
   "metadata": {},
   "outputs": [],
   "source": [
    "TERRASWAPBLUNALUNAPAIR_QUERY_PAIRS = {\n",
    "    \"pair\": {},\n",
    "    \"pool\": {},\n",
    "    \"simulation\": {\n",
    "        \"offer_asset\":{\n",
    "            \"amount\": \"1000000\",\n",
    "            \"info\": {\n",
    "                \"native_token\": {\n",
    "                    \"denom\": \"uluna\"\n",
    "                }\n",
    "            },\n",
    "        }\n",
    "    },\n",
    "    \"reverse_simulation\": {\n",
    "        \"ask_asset\":{\n",
    "            \"info\": {\n",
    "                \"token\": {\n",
    "                    \"contract_addr\": anchor.CONTRACT_ADDRESSES[lcd_scratch.chain_id][\"bLunaToken\"]\n",
    "                }\n",
    "            },\n",
    "            \"amount\": \"1000000\"\n",
    "        }\n",
    "    },\n",
    "}\n",
    "\n",
    "try:\n",
    "    \n",
    "    results = []\n",
    "\n",
    "    for k, v in TERRASWAPBLUNALUNAPAIR_QUERY_PAIRS.items():\n",
    "        print(f\"\\n{k}: {v}\")\n",
    "        results.append(\n",
    "            lcd_scratch.wasm.contract_query(\n",
    "                anchor.CONTRACT_ADDRESSES[lcd_scratch.chain_id][\"terraswapblunaLunaPair\"], {\n",
    "                    k: v,\n",
    "                },\n",
    "            )\n",
    "        )\n",
    "        print(results[-1])\n",
    "except exceptions.LCDResponseError as e:\n",
    "    print(str(e))"
   ]
  },
  {
   "cell_type": "markdown",
   "metadata": {},
   "source": [
    "Explore terraswapblunaLunaLPToken"
   ]
  },
  {
   "cell_type": "code",
   "execution_count": null,
   "metadata": {},
   "outputs": [],
   "source": [
    "TERRASWAPBLUNALUNALPTOKEN_QUERY_PAIRS = {\n",
    "    \"balance\": {\"address\": WALLET_TEST.key.acc_address},\n",
    "    \"token_info\": {},\n",
    "    \"minter\": {},\n",
    "    \"allowance\": {\n",
    "        \"owner\": WALLET_TEST.key.acc_address,\n",
    "        \"spender\": WALLET_TEST.key.acc_address,\n",
    "    },\n",
    "    \"all_allowances\": {\n",
    "        \"owner\": WALLET_TEST.key.acc_address,\n",
    "        \"spender\": WALLET_TEST.key.acc_address,\n",
    "    },\n",
    "    \"all_accounts\": {},\n",
    "}\n",
    "\n",
    "try:\n",
    "    \n",
    "    results = []\n",
    "\n",
    "    for k, v in TERRASWAPBLUNALUNALPTOKEN_QUERY_PAIRS.items():\n",
    "        print(f\"\\n{k}: {v}\")\n",
    "        results.append(\n",
    "            lcd_scratch.wasm.contract_query(\n",
    "                anchor.CONTRACT_ADDRESSES[lcd_scratch.chain_id][\"terraswapblunaLunaLPToken\"], {\n",
    "                    k: v,\n",
    "                },\n",
    "            )\n",
    "        )\n",
    "        print(results[-1])\n",
    "except exceptions.LCDResponseError as e:\n",
    "    print(str(e))"
   ]
  },
  {
   "cell_type": "markdown",
   "metadata": {},
   "source": [
    "Explore terraswapAncUstPair"
   ]
  },
  {
   "cell_type": "code",
   "execution_count": null,
   "metadata": {},
   "outputs": [],
   "source": [
    "TERRASWAPANCUSTPAIR_QUERY_PAIRS = {\n",
    "    \"pair\": {},\n",
    "    \"pool\": {},\n",
    "    \"simulation\": {\n",
    "        \"offer_asset\":{\n",
    "            \"amount\": \"1000000\",\n",
    "            \"info\": {\n",
    "                \"native_token\": {\n",
    "                    \"denom\": \"uusd\"\n",
    "                }\n",
    "            },\n",
    "        }\n",
    "    },\n",
    "    \"reverse_simulation\": {\n",
    "        \"ask_asset\":{\n",
    "            \"info\": {\n",
    "                \"token\": {\n",
    "                    \"contract_addr\": anchor.CONTRACT_ADDRESSES[lcd_scratch.chain_id][\"ANC\"]\n",
    "                }\n",
    "            },\n",
    "            \"amount\": \"1000000\"\n",
    "        }\n",
    "    },\n",
    "}\n",
    "\n",
    "try:\n",
    "    \n",
    "    results = []\n",
    "\n",
    "    for k, v in TERRASWAPANCUSTPAIR_QUERY_PAIRS.items():\n",
    "        print(f\"\\n{k}: {v}\")\n",
    "        results.append(\n",
    "            lcd_scratch.wasm.contract_query(\n",
    "                anchor.CONTRACT_ADDRESSES[lcd_scratch.chain_id][\"terraswapAncUstPair\"], {\n",
    "                    k: v,\n",
    "                },\n",
    "            )\n",
    "        )\n",
    "        print(results[-1])\n",
    "except exceptions.LCDResponseError as e:\n",
    "    print(str(e))"
   ]
  },
  {
   "cell_type": "markdown",
   "metadata": {},
   "source": [
    "Explore terraswapAncUstLPToken"
   ]
  },
  {
   "cell_type": "code",
   "execution_count": null,
   "metadata": {},
   "outputs": [],
   "source": [
    "TERRASWAPANCUSTLPTOKEN_QUERY_PAIRS = {\n",
    "    \"balance\": {\"address\": WALLET_TEST.key.acc_address},\n",
    "    \"token_info\": {},\n",
    "    \"minter\": {},\n",
    "    \"allowance\": {\n",
    "        \"owner\": WALLET_TEST.key.acc_address,\n",
    "        \"spender\": WALLET_TEST.key.acc_address,\n",
    "    },\n",
    "    \"all_allowances\": {\n",
    "        \"owner\": WALLET_TEST.key.acc_address,\n",
    "        \"spender\": WALLET_TEST.key.acc_address,\n",
    "    },\n",
    "    \"all_accounts\": {},\n",
    "}\n",
    "\n",
    "try:\n",
    "    \n",
    "    results = []\n",
    "\n",
    "    for k, v in TERRASWAPANCUSTLPTOKEN_QUERY_PAIRS.items():\n",
    "        print(f\"\\n{k}: {v}\")\n",
    "        results.append(\n",
    "            lcd_scratch.wasm.contract_query(\n",
    "                anchor.CONTRACT_ADDRESSES[lcd_scratch.chain_id][\"terraswapAncUstLPToken\"], {\n",
    "                    k: v,\n",
    "                },\n",
    "            )\n",
    "        )\n",
    "        print(results[-1])\n",
    "except exceptions.LCDResponseError as e:\n",
    "    print(str(e))"
   ]
  }
 ],
 "metadata": {
  "interpreter": {
   "hash": "aee8b7b246df8f9039afb4144a1f6fd8d2ca17a180786b69acc140d282b71a49"
  },
  "kernelspec": {
   "display_name": "Python 3.9.6 64-bit",
   "name": "python3"
  },
  "language_info": {
   "codemirror_mode": {
    "name": "ipython",
    "version": 3
   },
   "file_extension": ".py",
   "mimetype": "text/x-python",
   "name": "python",
   "nbconvert_exporter": "python",
   "pygments_lexer": "ipython3",
   "version": "3.9.6"
  }
 },
 "nbformat": 4,
 "nbformat_minor": 2
}

{
 "cells": [
  {
   "cell_type": "code",
   "execution_count": null,
   "metadata": {},
   "outputs": [],
   "source": [
    "import os\n",
    "import pathlib\n",
    "\n",
    "from terra_sdk.client import lcd\n",
    "from terra_sdk.core import Dec\n",
    "from terra_sdk.core import coin\n",
    "from terra_sdk import exceptions\n",
    "\n",
    "from anchorman import anchor"
   ]
  },
  {
   "cell_type": "code",
   "execution_count": null,
   "metadata": {},
   "outputs": [],
   "source": [
    "if not 'workbook_dir' in globals():\n",
    "    workbook_dir = pathlib.Path.cwd()\n",
    "print(f\"workbook_dir: {workbook_dir}\")\n",
    "os.chdir(workbook_dir)  # If you changed the current working dir, this will take you back to the workbook dir."
   ]
  },
  {
   "cell_type": "code",
   "execution_count": null,
   "metadata": {},
   "outputs": [],
   "source": [
    "ROOT = workbook_dir.parent.parent\n",
    "\n",
    "CHAIN_ID_TESTNET = \"tequila-0004\"\n",
    "lcd_scratch = lcd.LCDClient(\n",
    "    chain_id=CHAIN_ID_TESTNET, url=anchor.PUBLIC_NODE_URLS[CHAIN_ID_TESTNET]\n",
    ")\n",
    "MNEM_PATH_TEST = ROOT / \"mnemonic.txt\"\n",
    "WALLET_TEST = lcd_scratch.wallet(anchor.mnem_key_from_file(MNEM_PATH_TEST))"
   ]
  },
  {
   "cell_type": "markdown",
   "metadata": {},
   "source": [
    "Explore AnchorEarn functionality:"
   ]
  },
  {
   "cell_type": "code",
   "execution_count": null,
   "metadata": {},
   "outputs": [],
   "source": [
    "ATERRA_QUERY_PAIRS = {\n",
    "    \"balance\": \"address\",\n",
    "    \"token_info\": \"address\",\n",
    "    \"minter\": \"address\",\n",
    "}\n",
    "\n",
    "try:\n",
    "    \n",
    "    results = []\n",
    "\n",
    "    for k, v in ATERRA_QUERY_PAIRS.items():\n",
    "        print(f\"\\n{k}: {v}\")\n",
    "        results.append(\n",
    "            lcd_scratch.wasm.contract_query(\n",
    "                anchor.CONTRACT_ADDRESSES[lcd_scratch.chain_id][\"aTerra\"], {\n",
    "                    k: {v: WALLET_TEST.key.acc_address},\n",
    "                },\n",
    "            )\n",
    "        )\n",
    "        print(results[-1])\n",
    "except exceptions.LCDResponseError as e:\n",
    "    print(str(e))"
   ]
  },
  {
   "cell_type": "code",
   "execution_count": null,
   "metadata": {},
   "outputs": [],
   "source": [
    "BLUNAHUB_QUERY_PAIRS = {\n",
    "    \"config\": \"addres\",\n",
    "    \"state\": \"addres\",\n",
    "    \"whitelisted_validators\": \"addres\",\n",
    "    \"current_batch\": \"addres\",\n",
    "    \"withdrawable_unbonded\": \"address\",\n",
    "    \"parameters\": \"address\",\n",
    "    \"unbond_requests\": \"address\",\n",
    "    \"all_history\": \"address\",\n",
    "}\n",
    "\n",
    "try:\n",
    "    \n",
    "    results = []\n",
    "\n",
    "    for k, v in BLUNAHUB_QUERY_PAIRS.items():\n",
    "        print(f\"\\n{k}: {v}\")\n",
    "        results.append(\n",
    "            lcd_scratch.wasm.contract_query(\n",
    "                anchor.CONTRACT_ADDRESSES[lcd_scratch.chain_id][\"bLunaHub\"], {\n",
    "                    k: {v: WALLET_TEST.key.acc_address},\n",
    "                },\n",
    "            )\n",
    "        )\n",
    "        print(results[-1])\n",
    "except exceptions.LCDResponseError as e:\n",
    "    print(str(e))"
   ]
  },
  {
   "cell_type": "markdown",
   "metadata": {},
   "source": []
  }
 ],
 "metadata": {
  "interpreter": {
   "hash": "aee8b7b246df8f9039afb4144a1f6fd8d2ca17a180786b69acc140d282b71a49"
  },
  "kernelspec": {
   "display_name": "Python 3.9.6 64-bit",
   "name": "python3"
  },
  "language_info": {
   "codemirror_mode": {
    "name": "ipython",
    "version": 3
   },
   "file_extension": ".py",
   "mimetype": "text/x-python",
   "name": "python",
   "nbconvert_exporter": "python",
   "pygments_lexer": "ipython3",
   "version": "3.9.6"
  }
 },
 "nbformat": 4,
 "nbformat_minor": 2
}
